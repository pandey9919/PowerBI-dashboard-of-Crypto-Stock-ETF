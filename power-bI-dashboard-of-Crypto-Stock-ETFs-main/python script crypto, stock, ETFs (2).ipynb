{
 "cells": [
  {
   "cell_type": "code",
   "execution_count": 1,
   "id": "91cd974f-1623-4149-93f3-375896ff0781",
   "metadata": {},
   "outputs": [],
   "source": [
    "import pandas as pd\n",
    "import time\n",
    "from datetime import datetime\n"
   ]
  },
  {
   "cell_type": "code",
   "execution_count": 3,
   "id": "f19fe60d-1575-49ea-bee7-0a20e66e52a6",
   "metadata": {},
   "outputs": [],
   "source": [
    "# Convert 'YYYY-MM-DD' to UNIX timestamp\n",
    "def date_to_unix(date_str):\n",
    "    return int(time.mktime(time.strptime(date_str, \"%Y-%m-%d\")))"
   ]
  },
  {
   "cell_type": "code",
   "execution_count": 5,
   "id": "4d0a73ad-fa6a-422a-8daf-bcd27f0291d7",
   "metadata": {},
   "outputs": [],
   "source": [
    "# Get the current date in 'YYYY-MM-DD' format\n",
    "current_date = datetime.now().strftime('%Y-%m-%d')"
   ]
  },
  {
   "cell_type": "code",
   "execution_count": 7,
   "id": "c4b06211-d77c-4f25-8adc-15fc76241233",
   "metadata": {},
   "outputs": [
    {
     "data": {
      "text/plain": [
       "'2024-11-28'"
      ]
     },
     "execution_count": 7,
     "metadata": {},
     "output_type": "execute_result"
    }
   ],
   "source": [
    "current_date"
   ]
  },
  {
   "cell_type": "code",
   "execution_count": 13,
   "id": "c53d191d-c7ad-456c-8f11-100b01524a41",
   "metadata": {},
   "outputs": [],
   "source": [
    "# Define the start date for the data\n",
    "start_date = '2023-07-01'  \n",
    "period1 = date_to_unix(start_date)\n",
    "period2 = date_to_unix(current_date)"
   ]
  },
  {
   "cell_type": "code",
   "execution_count": 15,
   "id": "11d25053-085b-468e-8bb2-9a975327b39d",
   "metadata": {},
   "outputs": [],
   "source": [
    "# Read the CSV file to get the list of stock symbols and their types\n",
    "file_path = 'C:\\\\Users\\\\arpit\\\\Music\\\\Source-20240901T123822Z-001\\\\Source\\\\trackers.csv'  \n",
    "symbols_df = pd.read_csv(file_path)\n",
    "trackers = symbols_df[['Symbol', 'Type']].to_dict(orient='records')"
   ]
  },
  {
   "cell_type": "code",
   "execution_count": 17,
   "id": "f968bce9-e313-4781-9ffb-0aeb6a7dc7b4",
   "metadata": {},
   "outputs": [
    {
     "name": "stdout",
     "output_type": "stream",
     "text": [
      "Failed to download data for AAPL: HTTP Error 401: Unauthorized\n",
      "Failed to download data for GOOGL: HTTP Error 401: Unauthorized\n",
      "Failed to download data for AMZN: HTTP Error 401: Unauthorized\n",
      "Failed to download data for MSFT: HTTP Error 401: Unauthorized\n",
      "Failed to download data for META: HTTP Error 401: Unauthorized\n",
      "Failed to download data for TSLA: HTTP Error 401: Unauthorized\n",
      "Failed to download data for F: HTTP Error 401: Unauthorized\n",
      "Failed to download data for NVDA: HTTP Error 401: Unauthorized\n",
      "Failed to download data for ETRN: HTTP Error 401: Unauthorized\n",
      "Failed to download data for KO: HTTP Error 401: Unauthorized\n",
      "Failed to download data for NFLX: HTTP Error 401: Unauthorized\n",
      "Failed to download data for ADANI: HTTP Error 401: Unauthorized\n",
      "Failed to download data for INFY: HTTP Error 401: Unauthorized\n",
      "Failed to download data for INTC: HTTP Error 401: Unauthorized\n",
      "Failed to download data for BTC-USD: HTTP Error 401: Unauthorized\n",
      "Failed to download data for ETH-USD: HTTP Error 401: Unauthorized\n",
      "Failed to download data for LEO-USD: HTTP Error 401: Unauthorized\n",
      "Failed to download data for SOL-USD: HTTP Error 401: Unauthorized\n",
      "Failed to download data for BND-USD: HTTP Error 401: Unauthorized\n",
      "Failed to download data for XRP-USD: HTTP Error 401: Unauthorized\n",
      "Failed to download data for STETH-USD: HTTP Error 401: Unauthorized\n",
      "Failed to download data for USDC-USD: HTTP Error 401: Unauthorized\n",
      "Failed to download data for ADA-USD: HTTP Error 401: Unauthorized\n",
      "Failed to download data for FDUSD-USD: HTTP Error 401: Unauthorized\n",
      "Failed to download data for FIL-USD: HTTP Error 401: Unauthorized\n",
      "Failed to download data for WETH: HTTP Error 401: Unauthorized\n",
      "Failed to download data for LINK-USD: HTTP Error 401: Unauthorized\n",
      "Failed to download data for AVAX-USD: HTTP Error 401: Unauthorized\n",
      "Failed to download data for WBTC-USD: HTTP Error 401: Unauthorized\n",
      "Failed to download data for VBNB-USD: HTTP Error 401: Unauthorized\n",
      "Failed to download data for USDT-USD: HTTP Error 401: Unauthorized\n",
      "Failed to download data for SQQQ: HTTP Error 401: Unauthorized\n",
      "Failed to download data for SOXL: HTTP Error 401: Unauthorized\n",
      "Failed to download data for TQQQ: HTTP Error 401: Unauthorized\n",
      "Failed to download data for SPXS: HTTP Error 401: Unauthorized\n",
      "Failed to download data for SPY: HTTP Error 401: Unauthorized\n",
      "Failed to download data for SOXS: HTTP Error 401: Unauthorized\n",
      "Failed to download data for SHTSL: HTTP Error 401: Unauthorized\n",
      "Failed to download data for TSLL: HTTP Error 401: Unauthorized\n",
      "Failed to download data for IWM: HTTP Error 401: Unauthorized\n",
      "Failed to download data for QQQ: HTTP Error 401: Unauthorized\n",
      "Failed to download data for EEM: HTTP Error 401: Unauthorized\n",
      "Failed to download data for GDX: HTTP Error 401: Unauthorized\n",
      "Failed to download data for KRE: HTTP Error 401: Unauthorized\n",
      "Failed to download data for LQD: HTTP Error 401: Unauthorized\n",
      "Failed to download data for TECE: HTTP Error 401: Unauthorized\n",
      "Failed to download data for TLT: HTTP Error 401: Unauthorized\n",
      "Failed to download data for TNA: HTTP Error 401: Unauthorized\n",
      "Failed to download data for EURUSD: HTTP Error 401: Unauthorized\n",
      "Failed to download data for JPY: HTTP Error 401: Unauthorized\n",
      "Failed to download data for TMAPX: HTTP Error 401: Unauthorized\n",
      "Failed to download data for BGRIX: HTTP Error 401: Unauthorized\n",
      "Failed to download data for INRUSD: HTTP Error 401: Unauthorized\n",
      "Failed to download data for HKD: HTTP Error 401: Unauthorized\n"
     ]
    }
   ],
   "source": [
    "\n",
    "# Initialize a list to hold all data\n",
    "data_frames = []\n",
    "for tracker in trackers:\n",
    "    symbol = tracker['Symbol']\n",
    "    type_of_asset = tracker['Type']\n",
    "    \n",
    "    url = f'https://query1.finance.yahoo.com/v7/finance/download/{symbol}?period1={period1}&period2={period2}&interval=1d&events=history&includeAdjustedClose=true'\n",
    "    \n",
    "    try:\n",
    "        # Fetch data from Yahoo Finance\n",
    "        df = pd.read_csv(url)\n",
    "        df['Symbol'] = symbol  # Add a column for the stock symbol\n",
    "        df['Type'] = type_of_asset  # Add a column for the type (Stock or Crypto)\n",
    "        data_frames.append(df)  # Append the dataframe to the list\n",
    "        print(f\"Data for {symbol} downloaded successfully.\")\n",
    "    except Exception as e:\n",
    "        print(f\"Failed to download data for {symbol}: {e}\")"
   ]
  },
  {
   "cell_type": "code",
   "execution_count": 19,
   "id": "13841880-1e2d-43e8-b525-676402542a49",
   "metadata": {},
   "outputs": [
    {
     "ename": "ValueError",
     "evalue": "No objects to concatenate",
     "output_type": "error",
     "traceback": [
      "\u001b[1;31m---------------------------------------------------------------------------\u001b[0m",
      "\u001b[1;31mValueError\u001b[0m                                Traceback (most recent call last)",
      "Cell \u001b[1;32mIn[19], line 2\u001b[0m\n\u001b[0;32m      1\u001b[0m \u001b[38;5;66;03m# Concatenate all dataframes into a single dataframe\u001b[39;00m\n\u001b[1;32m----> 2\u001b[0m combined_data \u001b[38;5;241m=\u001b[39m pd\u001b[38;5;241m.\u001b[39mconcat(data_frames, ignore_index\u001b[38;5;241m=\u001b[39m\u001b[38;5;28;01mTrue\u001b[39;00m)\n",
      "File \u001b[1;32m~\\anaconda3\\Lib\\site-packages\\pandas\\core\\reshape\\concat.py:382\u001b[0m, in \u001b[0;36mconcat\u001b[1;34m(objs, axis, join, ignore_index, keys, levels, names, verify_integrity, sort, copy)\u001b[0m\n\u001b[0;32m    379\u001b[0m \u001b[38;5;28;01melif\u001b[39;00m copy \u001b[38;5;129;01mand\u001b[39;00m using_copy_on_write():\n\u001b[0;32m    380\u001b[0m     copy \u001b[38;5;241m=\u001b[39m \u001b[38;5;28;01mFalse\u001b[39;00m\n\u001b[1;32m--> 382\u001b[0m op \u001b[38;5;241m=\u001b[39m _Concatenator(\n\u001b[0;32m    383\u001b[0m     objs,\n\u001b[0;32m    384\u001b[0m     axis\u001b[38;5;241m=\u001b[39maxis,\n\u001b[0;32m    385\u001b[0m     ignore_index\u001b[38;5;241m=\u001b[39mignore_index,\n\u001b[0;32m    386\u001b[0m     join\u001b[38;5;241m=\u001b[39mjoin,\n\u001b[0;32m    387\u001b[0m     keys\u001b[38;5;241m=\u001b[39mkeys,\n\u001b[0;32m    388\u001b[0m     levels\u001b[38;5;241m=\u001b[39mlevels,\n\u001b[0;32m    389\u001b[0m     names\u001b[38;5;241m=\u001b[39mnames,\n\u001b[0;32m    390\u001b[0m     verify_integrity\u001b[38;5;241m=\u001b[39mverify_integrity,\n\u001b[0;32m    391\u001b[0m     copy\u001b[38;5;241m=\u001b[39mcopy,\n\u001b[0;32m    392\u001b[0m     sort\u001b[38;5;241m=\u001b[39msort,\n\u001b[0;32m    393\u001b[0m )\n\u001b[0;32m    395\u001b[0m \u001b[38;5;28;01mreturn\u001b[39;00m op\u001b[38;5;241m.\u001b[39mget_result()\n",
      "File \u001b[1;32m~\\anaconda3\\Lib\\site-packages\\pandas\\core\\reshape\\concat.py:445\u001b[0m, in \u001b[0;36m_Concatenator.__init__\u001b[1;34m(self, objs, axis, join, keys, levels, names, ignore_index, verify_integrity, copy, sort)\u001b[0m\n\u001b[0;32m    442\u001b[0m \u001b[38;5;28mself\u001b[39m\u001b[38;5;241m.\u001b[39mverify_integrity \u001b[38;5;241m=\u001b[39m verify_integrity\n\u001b[0;32m    443\u001b[0m \u001b[38;5;28mself\u001b[39m\u001b[38;5;241m.\u001b[39mcopy \u001b[38;5;241m=\u001b[39m copy\n\u001b[1;32m--> 445\u001b[0m objs, keys \u001b[38;5;241m=\u001b[39m \u001b[38;5;28mself\u001b[39m\u001b[38;5;241m.\u001b[39m_clean_keys_and_objs(objs, keys)\n\u001b[0;32m    447\u001b[0m \u001b[38;5;66;03m# figure out what our result ndim is going to be\u001b[39;00m\n\u001b[0;32m    448\u001b[0m ndims \u001b[38;5;241m=\u001b[39m \u001b[38;5;28mself\u001b[39m\u001b[38;5;241m.\u001b[39m_get_ndims(objs)\n",
      "File \u001b[1;32m~\\anaconda3\\Lib\\site-packages\\pandas\\core\\reshape\\concat.py:507\u001b[0m, in \u001b[0;36m_Concatenator._clean_keys_and_objs\u001b[1;34m(self, objs, keys)\u001b[0m\n\u001b[0;32m    504\u001b[0m     objs_list \u001b[38;5;241m=\u001b[39m \u001b[38;5;28mlist\u001b[39m(objs)\n\u001b[0;32m    506\u001b[0m \u001b[38;5;28;01mif\u001b[39;00m \u001b[38;5;28mlen\u001b[39m(objs_list) \u001b[38;5;241m==\u001b[39m \u001b[38;5;241m0\u001b[39m:\n\u001b[1;32m--> 507\u001b[0m     \u001b[38;5;28;01mraise\u001b[39;00m \u001b[38;5;167;01mValueError\u001b[39;00m(\u001b[38;5;124m\"\u001b[39m\u001b[38;5;124mNo objects to concatenate\u001b[39m\u001b[38;5;124m\"\u001b[39m)\n\u001b[0;32m    509\u001b[0m \u001b[38;5;28;01mif\u001b[39;00m keys \u001b[38;5;129;01mis\u001b[39;00m \u001b[38;5;28;01mNone\u001b[39;00m:\n\u001b[0;32m    510\u001b[0m     objs_list \u001b[38;5;241m=\u001b[39m \u001b[38;5;28mlist\u001b[39m(com\u001b[38;5;241m.\u001b[39mnot_none(\u001b[38;5;241m*\u001b[39mobjs_list))\n",
      "\u001b[1;31mValueError\u001b[0m: No objects to concatenate"
     ]
    }
   ],
   "source": [
    "# Concatenate all dataframes into a single dataframe\n",
    "combined_data = pd.concat(data_frames, ignore_index=True)"
   ]
  },
  {
   "cell_type": "code",
   "execution_count": 31,
   "id": "1d0effcf-fb89-404c-b20b-b232b12998f1",
   "metadata": {},
   "outputs": [],
   "source": [
    "# Reorder columns for better readability\n",
    "combined_data = combined_data[['Symbol', 'Type', 'Date', 'Open', 'High', 'Low', 'Close', 'Adj Close', 'Volume']]"
   ]
  },
  {
   "cell_type": "code",
   "execution_count": 33,
   "id": "b40e136c-3f7a-43b4-990d-89154b8d57ed",
   "metadata": {},
   "outputs": [
    {
     "name": "stdout",
     "output_type": "stream",
     "text": [
      "  Symbol   Type        Date        Open        High         Low       Close  \\\n",
      "0   AAPL  Stock  2023-06-30  191.630005  194.479996  191.259995  193.970001   \n",
      "1   AAPL  Stock  2023-07-03  193.779999  193.880005  191.759995  192.460007   \n",
      "2   AAPL  Stock  2023-07-05  191.570007  192.979996  190.619995  191.330002   \n",
      "3   AAPL  Stock  2023-07-06  189.839996  192.020004  189.199997  191.809998   \n",
      "4   AAPL  Stock  2023-07-07  191.410004  192.669998  190.240005  190.679993   \n",
      "\n",
      "    Adj Close      Volume  \n",
      "0  192.722244  85069600.0  \n",
      "1  191.221954  31458200.0  \n",
      "2  190.099228  46920300.0  \n",
      "3  190.576141  45094300.0  \n",
      "4  189.453400  46778000.0  \n"
     ]
    }
   ],
   "source": [
    "# Display the combined dataframe\n",
    "print(combined_data.head())"
   ]
  },
  {
   "cell_type": "code",
   "execution_count": null,
   "id": "d5812a96-67d3-46e0-9374-d0b944e1499b",
   "metadata": {},
   "outputs": [],
   "source": []
  }
 ],
 "metadata": {
  "kernelspec": {
   "display_name": "Python 3 (ipykernel)",
   "language": "python",
   "name": "python3"
  },
  "language_info": {
   "codemirror_mode": {
    "name": "ipython",
    "version": 3
   },
   "file_extension": ".py",
   "mimetype": "text/x-python",
   "name": "python",
   "nbconvert_exporter": "python",
   "pygments_lexer": "ipython3",
   "version": "3.12.4"
  }
 },
 "nbformat": 4,
 "nbformat_minor": 5
}
