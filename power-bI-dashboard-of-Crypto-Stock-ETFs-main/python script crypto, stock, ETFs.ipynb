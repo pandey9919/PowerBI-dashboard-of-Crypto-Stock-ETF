{
 "cells": [
  {
   "cell_type": "code",
   "execution_count": 7,
   "id": "91cd974f-1623-4149-93f3-375896ff0781",
   "metadata": {},
   "outputs": [],
   "source": [
    "import pandas as pd\n",
    "import time\n",
    "from datetime import datetime\n"
   ]
  },
  {
   "cell_type": "code",
   "execution_count": 9,
   "id": "f19fe60d-1575-49ea-bee7-0a20e66e52a6",
   "metadata": {},
   "outputs": [],
   "source": [
    "# Convert 'YYYY-MM-DD' to UNIX timestamp\n",
    "def date_to_unix(date_str):\n",
    "    return int(time.mktime(time.strptime(date_str, \"%Y-%m-%d\")))"
   ]
  },
  {
   "cell_type": "code",
   "execution_count": 11,
   "id": "4d0a73ad-fa6a-422a-8daf-bcd27f0291d7",
   "metadata": {},
   "outputs": [],
   "source": [
    "# Get the current date in 'YYYY-MM-DD' format\n",
    "current_date = datetime.now().strftime('%Y-%m-%d')"
   ]
  },
  {
   "cell_type": "code",
   "execution_count": 13,
   "id": "c53d191d-c7ad-456c-8f11-100b01524a41",
   "metadata": {},
   "outputs": [],
   "source": [
    "# Define the start date for the data\n",
    "start_date = '2023-07-01'  \n",
    "period1 = date_to_unix(start_date)\n",
    "period2 = date_to_unix(current_date)"
   ]
  },
  {
   "cell_type": "code",
   "execution_count": 17,
   "id": "11d25053-085b-468e-8bb2-9a975327b39d",
   "metadata": {},
   "outputs": [],
   "source": [
    "# Read the CSV file to get the list of stock symbols and their types\n",
    "file_path = 'C:\\\\Users\\\\arpit\\\\Music\\\\Source-20240901T123822Z-001\\\\Source\\\\trackers.csv'  \n",
    "symbols_df = pd.read_csv(file_path)\n",
    "trackers = symbols_df[['Symbol', 'Type']].to_dict(orient='records')"
   ]
  },
  {
   "cell_type": "code",
   "execution_count": 19,
   "id": "f968bce9-e313-4781-9ffb-0aeb6a7dc7b4",
   "metadata": {},
   "outputs": [
    {
     "name": "stdout",
     "output_type": "stream",
     "text": [
      "Data for AAPL downloaded successfully.\n",
      "Data for GOOGL downloaded successfully.\n",
      "Data for AMZN downloaded successfully.\n",
      "Data for MSFT downloaded successfully.\n",
      "Data for META downloaded successfully.\n",
      "Data for TSLA downloaded successfully.\n",
      "Data for F downloaded successfully.\n",
      "Data for NVDA downloaded successfully.\n",
      "Data for ETRN downloaded successfully.\n",
      "Data for KO downloaded successfully.\n",
      "Data for NFLX downloaded successfully.\n",
      "Failed to download data for ADANI: HTTP Error 404: Not Found\n",
      "Data for INFY downloaded successfully.\n",
      "Data for INTC downloaded successfully.\n",
      "Data for BTC-USD downloaded successfully.\n",
      "Data for ETH-USD downloaded successfully.\n",
      "Data for LEO-USD downloaded successfully.\n",
      "Data for SOL-USD downloaded successfully.\n",
      "Failed to download data for BND-USD: HTTP Error 404: Not Found\n",
      "Data for XRP-USD downloaded successfully.\n",
      "Data for STETH-USD downloaded successfully.\n",
      "Data for USDC-USD downloaded successfully.\n",
      "Data for ADA-USD downloaded successfully.\n",
      "Data for FDUSD-USD downloaded successfully.\n",
      "Data for FIL-USD downloaded successfully.\n",
      "Data for WETH downloaded successfully.\n",
      "Data for LINK-USD downloaded successfully.\n",
      "Data for AVAX-USD downloaded successfully.\n",
      "Data for WBTC-USD downloaded successfully.\n",
      "Failed to download data for VBNB-USD: HTTP Error 404: Not Found\n",
      "Data for USDT-USD downloaded successfully.\n",
      "Data for SQQQ downloaded successfully.\n",
      "Data for SOXL downloaded successfully.\n",
      "Data for TQQQ downloaded successfully.\n",
      "Data for SPXS downloaded successfully.\n",
      "Data for SPY downloaded successfully.\n",
      "Data for SOXS downloaded successfully.\n",
      "Failed to download data for SHTSL: HTTP Error 404: Not Found\n",
      "Data for TSLL downloaded successfully.\n",
      "Data for IWM downloaded successfully.\n",
      "Data for QQQ downloaded successfully.\n",
      "Data for EEM downloaded successfully.\n",
      "Data for GDX downloaded successfully.\n",
      "Data for KRE downloaded successfully.\n",
      "Data for LQD downloaded successfully.\n",
      "Failed to download data for TECE: HTTP Error 404: Not Found\n",
      "Data for TLT downloaded successfully.\n",
      "Data for TNA downloaded successfully.\n",
      "Failed to download data for EURUSD: HTTP Error 404: Not Found\n",
      "Failed to download data for JPY: HTTP Error 404: Not Found\n",
      "Data for TMAPX downloaded successfully.\n",
      "Data for BGRIX downloaded successfully.\n",
      "Failed to download data for INRUSD: HTTP Error 404: Not Found\n",
      "Data for HKD downloaded successfully.\n"
     ]
    }
   ],
   "source": [
    "\n",
    "# Initialize a list to hold all data\n",
    "data_frames = []\n",
    "for tracker in trackers:\n",
    "    symbol = tracker['Symbol']\n",
    "    type_of_asset = tracker['Type']\n",
    "    \n",
    "    url = f'https://query1.finance.yahoo.com/v7/finance/download/{symbol}?period1={period1}&period2={period2}&interval=1d&events=history&includeAdjustedClose=true'\n",
    "    \n",
    "    try:\n",
    "        # Fetch data from Yahoo Finance\n",
    "        df = pd.read_csv(url)\n",
    "        df['Symbol'] = symbol  # Add a column for the stock symbol\n",
    "        df['Type'] = type_of_asset  # Add a column for the type (Stock or Crypto)\n",
    "        data_frames.append(df)  # Append the dataframe to the list\n",
    "        print(f\"Data for {symbol} downloaded successfully.\")\n",
    "    except Exception as e:\n",
    "        print(f\"Failed to download data for {symbol}: {e}\")"
   ]
  },
  {
   "cell_type": "code",
   "execution_count": 29,
   "id": "13841880-1e2d-43e8-b525-676402542a49",
   "metadata": {},
   "outputs": [],
   "source": [
    "# Concatenate all dataframes into a single dataframe\n",
    "combined_data = pd.concat(data_frames, ignore_index=True)"
   ]
  },
  {
   "cell_type": "code",
   "execution_count": 31,
   "id": "1d0effcf-fb89-404c-b20b-b232b12998f1",
   "metadata": {},
   "outputs": [],
   "source": [
    "# Reorder columns for better readability\n",
    "combined_data = combined_data[['Symbol', 'Type', 'Date', 'Open', 'High', 'Low', 'Close', 'Adj Close', 'Volume']]"
   ]
  },
  {
   "cell_type": "code",
   "execution_count": 33,
   "id": "b40e136c-3f7a-43b4-990d-89154b8d57ed",
   "metadata": {},
   "outputs": [
    {
     "name": "stdout",
     "output_type": "stream",
     "text": [
      "  Symbol   Type        Date        Open        High         Low       Close  \\\n",
      "0   AAPL  Stock  2023-06-30  191.630005  194.479996  191.259995  193.970001   \n",
      "1   AAPL  Stock  2023-07-03  193.779999  193.880005  191.759995  192.460007   \n",
      "2   AAPL  Stock  2023-07-05  191.570007  192.979996  190.619995  191.330002   \n",
      "3   AAPL  Stock  2023-07-06  189.839996  192.020004  189.199997  191.809998   \n",
      "4   AAPL  Stock  2023-07-07  191.410004  192.669998  190.240005  190.679993   \n",
      "\n",
      "    Adj Close      Volume  \n",
      "0  192.722244  85069600.0  \n",
      "1  191.221954  31458200.0  \n",
      "2  190.099228  46920300.0  \n",
      "3  190.576141  45094300.0  \n",
      "4  189.453400  46778000.0  \n"
     ]
    }
   ],
   "source": [
    "# Display the combined dataframe\n",
    "print(combined_data.head())"
   ]
  },
  {
   "cell_type": "code",
   "execution_count": null,
   "id": "d5812a96-67d3-46e0-9374-d0b944e1499b",
   "metadata": {},
   "outputs": [],
   "source": []
  }
 ],
 "metadata": {
  "kernelspec": {
   "display_name": "Python 3 (ipykernel)",
   "language": "python",
   "name": "python3"
  },
  "language_info": {
   "codemirror_mode": {
    "name": "ipython",
    "version": 3
   },
   "file_extension": ".py",
   "mimetype": "text/x-python",
   "name": "python",
   "nbconvert_exporter": "python",
   "pygments_lexer": "ipython3",
   "version": "3.12.4"
  }
 },
 "nbformat": 4,
 "nbformat_minor": 5
}
